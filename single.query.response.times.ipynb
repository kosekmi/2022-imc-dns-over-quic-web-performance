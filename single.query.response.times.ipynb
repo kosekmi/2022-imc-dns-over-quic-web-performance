{
 "cells": [
  {
   "cell_type": "markdown",
   "id": "67bca4cb",
   "metadata": {},
   "source": [
    "# Performance"
   ]
  },
  {
   "cell_type": "code",
   "execution_count": null,
   "id": "89e11bc2",
   "metadata": {},
   "outputs": [],
   "source": [
    "import numpy as np\n",
    "import sqlite3 as sq\n",
    "import matplotlib.pyplot as plt\n",
    "import pandas as pd\n",
    "pd.options.mode.chained_assignment = None\n",
    "import seaborn as sns\n",
    "import requests\n",
    "from mpl_toolkits.basemap import Basemap\n",
    "import time\n",
    "import json\n",
    "import tldextract\n",
    "\n",
    "%matplotlib inline\n",
    "\n",
    "params = {'legend.fontsize': 'x-large',\n",
    "         'axes.labelsize': 'x-large',\n",
    "         'axes.titlesize':'x-large',\n",
    "         'xtick.labelsize':'x-large',\n",
    "         'ytick.labelsize':'x-large'}\n",
    "\n",
    "plt.rcParams.update(params)"
   ]
  },
  {
   "cell_type": "code",
   "execution_count": null,
   "id": "9b2dbf51",
   "metadata": {},
   "outputs": [],
   "source": [
    "from IPython.core.display import display, HTML\n",
    "display(HTML(\"<style>.container { width:95% !important; }</style>\"))"
   ]
  },
  {
   "cell_type": "code",
   "execution_count": null,
   "id": "896c0785",
   "metadata": {},
   "outputs": [],
   "source": [
    "def buildExtractedDomain(extracted):\n",
    "    result = \"\"\n",
    "    if extracted.subdomain != \"\" and extracted.subdomain != \"*\":\n",
    "        result += extracted.subdomain + \".\"\n",
    "    if extracted.domain != \"\" and extracted.suffix != \"\":\n",
    "        result += extracted.domain + \".\" + extracted.suffix\n",
    "    return result\n",
    "\n",
    "def mapToCommonName(info):\n",
    "    commonName = buildExtractedDomain(tldextract.extract(info[\"CommonName\"]))\n",
    "    if commonName != \"\":\n",
    "        return commonName\n",
    "    if info[\"DNSNames\"] == None:\n",
    "        return None\n",
    "    return buildExtractedDomain(tldextract.extract(info[\"DNSNames\"][0]))"
   ]
  },
  {
   "cell_type": "code",
   "execution_count": null,
   "id": "6aa8f239",
   "metadata": {},
   "outputs": [],
   "source": [
    "connection_misc = sq.connect(\"single.query.response.times/misc.db\")\n",
    "connection_misc.row_factory = sq.Row"
   ]
  },
  {
   "cell_type": "markdown",
   "id": "69c55f81",
   "metadata": {},
   "source": [
    "# ---------------------------------------------------------------------------------"
   ]
  },
  {
   "cell_type": "markdown",
   "id": "0b2ea1d6",
   "metadata": {},
   "source": [
    "# Data preparation"
   ]
  },
  {
   "cell_type": "code",
   "execution_count": null,
   "id": "2580fdc0",
   "metadata": {
    "scrolled": true
   },
   "outputs": [],
   "source": [
    "#load dns_measurements\n",
    "measurements = pd.read_parquet('single.query.response.times/single.query.response.times.parquet.gzip')"
   ]
  },
  {
   "cell_type": "code",
   "execution_count": null,
   "id": "2425f94d",
   "metadata": {},
   "outputs": [],
   "source": [
    "print(\"all measurements: \" + str(len(measurements)))\n",
    "print('doq: ' + str(len(measurements[measurements['protocol'] == 'quic'])))\n",
    "print('doh: ' + str(len(measurements[measurements['protocol'] == 'https'])))\n",
    "print('dot: ' + str(len(measurements[measurements['protocol'] == 'tls'])))\n",
    "print('dotcp: ' + str(len(measurements[measurements['protocol'] == 'tcp'])))\n",
    "print('doudp: ' + str(len(measurements[measurements['protocol'] == 'udp'])))\n"
   ]
  },
  {
   "cell_type": "code",
   "execution_count": null,
   "id": "e3e76084",
   "metadata": {},
   "outputs": [],
   "source": [
    "print(\"measurements per vp: \")\n",
    "print('AF-SOUTH-1: ' + str(len(measurements[measurements['vp'] == 'AF-SOUTH-1'])))\n",
    "print('AP-NORTHEAST-3: ' + str(len(measurements[measurements['vp'] == 'AP-NORTHEAST-3'])))\n",
    "print('AP-SOUTHEAST-3: ' + str(len(measurements[measurements['vp'] == 'AP-SOUTHEAST-3'])))\n",
    "print('EU-CENTRAL-1: ' + str(len(measurements[measurements['vp'] == 'EU-CENTRAL-1'])))\n",
    "print('SA-EAST-1: ' + str(len(measurements[measurements['vp'] == 'SA-EAST-1'])))\n",
    "print('US-WEST-1: ' + str(len(measurements[measurements['vp'] == 'US-WEST-1'])))"
   ]
  },
  {
   "cell_type": "markdown",
   "id": "adc89c42",
   "metadata": {},
   "source": [
    "### All measurements of Resolvers which answered at least once with an r_code for every protocol"
   ]
  },
  {
   "cell_type": "code",
   "execution_count": null,
   "id": "35dea9cd",
   "metadata": {},
   "outputs": [],
   "source": [
    "# number of resolvers per protocol\n",
    "\n",
    "measuremens_ips_quic_responsive = set(measurements[~(measurements['r_code'].isna()) & (measurements['protocol'] == 'quic')]['ip'].unique())\n",
    "measuremens_ips_https_responsive = set(measurements[~(measurements['r_code'].isna()) & (measurements['protocol'] == 'https')]['ip'].unique())\n",
    "measuremens_ips_tls_responsive = set(measurements[~(measurements['r_code'].isna()) & (measurements['protocol'] == 'tls')]['ip'].unique())\n",
    "measuremens_ips_tcp_responsive = set(measurements[~(measurements['r_code'].isna()) & (measurements['protocol'] == 'tcp')]['ip'].unique())\n",
    "measuremens_ips_udp_responsive = set(measurements[~(measurements['r_code'].isna()) & (measurements['protocol'] == 'udp')]['ip'].unique())\n",
    "\n",
    "print('doq: ' + str(len(measuremens_ips_quic_responsive)))\n",
    "print('doh: ' + str(len(measuremens_ips_https_responsive)))\n",
    "print('dot: ' + str(len(measuremens_ips_tls_responsive)))\n",
    "print('dotcp: ' + str(len(measuremens_ips_tcp_responsive)))\n",
    "print('doudp: ' + str(len(measuremens_ips_udp_responsive)))\n"
   ]
  },
  {
   "cell_type": "code",
   "execution_count": null,
   "id": "aa837385",
   "metadata": {},
   "outputs": [],
   "source": [
    "# number of resolvers supporting every protocol\n",
    "measuremens_ips_all_responsive = set.intersection(measuremens_ips_quic_responsive, measuremens_ips_https_responsive, measuremens_ips_tls_responsive, measuremens_ips_tcp_responsive, measuremens_ips_udp_responsive)\n",
    "len(measuremens_ips_all_responsive)\n"
   ]
  },
  {
   "cell_type": "code",
   "execution_count": null,
   "id": "0f318c81",
   "metadata": {},
   "outputs": [],
   "source": [
    "# number of resolvers supporting every protocol but dotcp\n",
    "len(set.intersection(measuremens_ips_quic_responsive, measuremens_ips_https_responsive, measuremens_ips_tls_responsive, measuremens_ips_udp_responsive))\n"
   ]
  },
  {
   "cell_type": "code",
   "execution_count": null,
   "id": "40f59140",
   "metadata": {},
   "outputs": [],
   "source": [
    "measurements_responsive = measurements[measurements['ip'].isin(measuremens_ips_all_responsive)]"
   ]
  },
  {
   "cell_type": "code",
   "execution_count": null,
   "id": "b93d757b",
   "metadata": {
    "scrolled": true
   },
   "outputs": [],
   "source": [
    "print(\"all measurements: \" + str(len(measurements_responsive)))\n",
    "print('doq: ' + str(len(measurements_responsive[measurements_responsive['protocol'] == 'quic'])))\n",
    "print('doh: ' + str(len(measurements_responsive[measurements_responsive['protocol'] == 'https'])))\n",
    "print('dot: ' + str(len(measurements_responsive[measurements_responsive['protocol'] == 'tls'])))\n",
    "print('dotcp: ' + str(len(measurements_responsive[measurements_responsive['protocol'] == 'tcp'])))\n",
    "print('doudp: ' + str(len(measurements_responsive[measurements_responsive['protocol'] == 'udp'])))\n"
   ]
  },
  {
   "cell_type": "markdown",
   "id": "f34c0d7b",
   "metadata": {},
   "source": [
    "# ---------------------------------------------------------------------------------"
   ]
  },
  {
   "cell_type": "markdown",
   "id": "e4cbc44c",
   "metadata": {},
   "source": [
    "# Meta"
   ]
  },
  {
   "cell_type": "markdown",
   "id": "959fc533",
   "metadata": {},
   "source": [
    "## Stats"
   ]
  },
  {
   "cell_type": "code",
   "execution_count": null,
   "id": "491dc49f",
   "metadata": {
    "scrolled": true
   },
   "outputs": [],
   "source": [
    "# total\n",
    "measurements_responsive_per_protocol = measurements_responsive.groupby('protocol').size().reset_index(name = \"total\")\n",
    "\n",
    "mask = (~measurements_responsive['r_code'].isna()) & (measurements_responsive['error'].isnull()) & (~measurements_responsive['total_time'].isna()) & (measurements_responsive['total_time'] < 5e9)\n",
    "\n",
    "# successful\n",
    "measurements_successful = measurements_responsive[mask]\n",
    "measurements_successful_per_protocol = measurements_successful.groupby('protocol').size().reset_index(name = \"sucessful\")\n",
    "\n",
    "measuremens_ips_quic_successful = set(measurements_successful[measurements_successful['protocol'] == 'quic']['ip'].unique())\n",
    "measuremens_ips_https_successful = set(measurements_successful[measurements_successful['protocol'] == 'https']['ip'].unique())\n",
    "measuremens_ips_tls_successful = set(measurements_successful[measurements_successful['protocol'] == 'tls']['ip'].unique())\n",
    "measuremens_ips_tcp_successful = set(measurements_successful[measurements_successful['protocol'] == 'tcp']['ip'].unique())\n",
    "measuremens_ips_udp_successful = set(measurements_successful[measurements_successful['protocol'] == 'udp']['ip'].unique())\n",
    "\n",
    "measuremens_ips_all_successful = set.intersection(measuremens_ips_quic_successful, measuremens_ips_https_successful, measuremens_ips_tls_successful, measuremens_ips_tcp_successful, measuremens_ips_udp_successful)\n",
    "print(len(measuremens_ips_all_successful))\n",
    "# 309 resolvers are successful\n",
    "\n",
    "\n",
    "# failed\n",
    "measurements_failed = measurements_responsive[~mask]\n",
    "measurements_failed_per_protocol = measurements_failed.groupby('protocol').size().reset_index(name = \"failed\")\n"
   ]
  },
  {
   "cell_type": "code",
   "execution_count": null,
   "id": "d5a01261",
   "metadata": {},
   "outputs": [],
   "source": [
    "measurements_stats = measurements_responsive_per_protocol.merge(measurements_successful_per_protocol)\n",
    "measurements_stats = measurements_stats.merge(measurements_failed_per_protocol)\n",
    "measurements_stats['failed_rel'] = (measurements_stats['failed'] / measurements_stats['total']).map(\" {:.1%}\".format) \n",
    "measurements_stats\n"
   ]
  },
  {
   "cell_type": "markdown",
   "id": "447b053a",
   "metadata": {},
   "source": [
    "## Load Common Names"
   ]
  },
  {
   "cell_type": "code",
   "execution_count": null,
   "id": "dabdccf2",
   "metadata": {},
   "outputs": [],
   "source": [
    "certs = pd.read_csv(\"single.query.response.times/certificates.csv\", converters={\"info\":json.loads}, header = None, names = [\"ip\", \"protocol\", \"port\", \"info\"])\n",
    "quic_certs_last_week = certs[certs[\"protocol\"] == \"quic\"]\n",
    "quic_certs_last_week[\"common_name\"] = quic_certs_last_week[\"info\"].apply(mapToCommonName)"
   ]
  },
  {
   "cell_type": "code",
   "execution_count": null,
   "id": "2ee3fda1",
   "metadata": {},
   "outputs": [],
   "source": [
    "quic_certs_last_week = quic_certs_last_week.drop_duplicates(subset = ['ip', 'common_name'])"
   ]
  },
  {
   "cell_type": "code",
   "execution_count": null,
   "id": "09746397",
   "metadata": {},
   "outputs": [],
   "source": [
    "count_by_common_name = quic_certs_last_week.groupby(\"common_name\").size().reset_index(name = \"count\").set_index(\"common_name\")\n",
    "count_by_common_name[\"rel\"] = (count_by_common_name[\"count\"] / count_by_common_name[\"count\"].sum()) * 100"
   ]
  },
  {
   "cell_type": "markdown",
   "id": "3000743a",
   "metadata": {},
   "source": [
    "# ---------------------------------------------------------------------------------"
   ]
  },
  {
   "cell_type": "markdown",
   "id": "3407c0b5",
   "metadata": {},
   "source": [
    "# Regional Distribution"
   ]
  },
  {
   "cell_type": "code",
   "execution_count": null,
   "id": "c487c6d5",
   "metadata": {},
   "outputs": [],
   "source": [
    "# get regional data from ip addresses\n",
    "data = {}\n",
    "for row in measuremens_ips_all_responsive:\n",
    "    #print(row)\n",
    "    r = requests.get(\"http://ip-api.com/json/\" + row)\n",
    "    json = r.json()\n",
    "    data[row] = {\n",
    "        \"country\": json[\"country\"],\n",
    "        \"countryCode\": json[\"countryCode\"],\n",
    "        \"region\": json[\"region\"],\n",
    "        \"regionName\": json[\"regionName\"],\n",
    "        \"city\": json[\"city\"],\n",
    "        \"zip\": json[\"zip\"],\n",
    "        \"lat\": json[\"lat\"],\n",
    "        \"lon\": json[\"lon\"],\n",
    "        \"org\": json[\"org\"],\n",
    "        \"as\": json[\"as\"],\n",
    "        \"ip\": row\n",
    "    }\n",
    "    time.sleep(1.5)\n",
    "measuremens_ips_all_responsive_regional = pd.DataFrame.from_dict(data, orient = \"index\")"
   ]
  },
  {
   "cell_type": "code",
   "execution_count": null,
   "id": "fb5b1e8f",
   "metadata": {
    "scrolled": false
   },
   "outputs": [],
   "source": [
    "measuremens_ips_all_responsive_regional"
   ]
  },
  {
   "cell_type": "markdown",
   "id": "20a11f39",
   "metadata": {},
   "source": [
    "## By Continent"
   ]
  },
  {
   "cell_type": "code",
   "execution_count": null,
   "id": "834de79c",
   "metadata": {},
   "outputs": [],
   "source": [
    "countriesContinents = pd.read_csv(\"single.query.response.times/Countries-Continents.csv\", index_col = False)\n",
    "renamed = countriesContinents.columns.tolist()\n",
    "renamed[0] = \"country\"\n",
    "countriesContinents.columns = renamed\n",
    "\n",
    "def mapToContinent(row):\n",
    "    if row[\"region\"] == \"Americas\" and row[\"intermediate-region\"] == \"South America\":\n",
    "        return \"South America (SA)\"\n",
    "    elif row[\"region\"] == \"Americas\":\n",
    "        return \"North America (NA)\"\n",
    "    elif row[\"region\"] == \"Asia\":\n",
    "        return \"Asia (AS)\"\n",
    "    elif row[\"region\"] == \"Europe\":\n",
    "        return \"Europe (EU)\"\n",
    "    elif row[\"region\"] == \"Oceania\":\n",
    "        return \"Oceania (OC)\"\n",
    "    elif row[\"region\"] == \"Africa\":\n",
    "        return \"Africa (AF)\"\n",
    "    return row[\"region\"]\n",
    "\n",
    "countriesContinents[\"continent\"] = countriesContinents.apply(mapToContinent, axis = 1)"
   ]
  },
  {
   "cell_type": "code",
   "execution_count": null,
   "id": "3079e19d",
   "metadata": {
    "scrolled": true
   },
   "outputs": [],
   "source": [
    "measuremens_ips_all_responsive_regional = pd.merge(measuremens_ips_all_responsive_regional, countriesContinents, on = \"country\")\n",
    "measuremens_ips_all_responsive_regional['continent'].value_counts()\n"
   ]
  },
  {
   "cell_type": "code",
   "execution_count": null,
   "id": "a04a2543",
   "metadata": {},
   "outputs": [],
   "source": [
    "dox_by_continent = pd.concat([measuremens_ips_all_responsive_regional['continent'].value_counts(),\n",
    "                                     measuremens_ips_all_responsive_regional['continent'].value_counts(normalize=True)], axis=1)\n",
    "dox_by_continent = dox_by_continent.reset_index() \n",
    "dox_by_continent.columns = ['Continent', 'abs', 'rel']\n",
    "dox_by_continent['rel'] = dox_by_continent['rel'].map(\" ({:.2%})\".format)\n",
    "dox_by_continent['DoX verified'] = dox_by_continent['abs'].astype(str) + dox_by_continent['rel']\n",
    "dox_by_continent = dox_by_continent[['Continent', 'DoX verified']]\n",
    "dox_by_continent"
   ]
  },
  {
   "cell_type": "markdown",
   "id": "4eebb285",
   "metadata": {},
   "source": [
    "## World map of resolvers"
   ]
  },
  {
   "cell_type": "code",
   "execution_count": null,
   "id": "7e67a669",
   "metadata": {},
   "outputs": [],
   "source": [
    "vantage_points = {\n",
    "                  'Asia Pacific Northeast':   {'short': 'ap-northeast_', 'location': {'lat': 34.6937, 'lng': 135.5022}},\n",
    "                  'Africa South':             {'short': 'af-south_', 'location': {'lat':  -33.9258, 'lng': 18.4232}},\n",
    "                  'Europe Central':           {'short': 'eu-central_', 'location': {'lat': 50.1155, 'lng': 8.6842}},\n",
    "                  'Asia Pacific Southeast':   {'short': 'ap-southeast_', 'location': {'lat': -33.8679, 'lng': 151.2073}},\n",
    "                  'US West':                  {'short': 'us-west_', 'location': {'lat':  37.7749, 'lng': -122.4194}},\n",
    "                  'South America East':       {'short': 'sa-east_', 'location': {'lat': -23.5475, 'lng': -46.6361}}\n",
    "                 }\n",
    "\n",
    "plt.figure(figsize=(12,4))\n",
    "worldMap = Basemap(lon_0=0, resolution='l')\n",
    "worldMap.drawcountries(color='#ffffff', linewidth=0.5)\n",
    "worldMap.fillcontinents(color='#c0c0c0', lake_color='#ffffff')\n",
    "x, y = worldMap(measuremens_ips_all_responsive_regional[\"lon\"].tolist(), measuremens_ips_all_responsive_regional[\"lat\"].tolist())\n",
    "plt.plot(x, y, 'ro', markersize = 3)\n",
    "\n",
    "vpx, vpy = worldMap([8.6842], [50.1155])\n",
    "plt.plot(vpx, vpy, 'bo', markersize = 5)\n",
    "vpx, vpy = worldMap([135.5022], [34.6937])\n",
    "plt.plot(vpx, vpy, 'bo', markersize = 5)\n",
    "vpx, vpy = worldMap([18.4232], [-33.9258])\n",
    "plt.plot(vpx, vpy, 'bo', markersize = 5)\n",
    "vpx, vpy = worldMap([152.2073], [-30.8679]) #([151.2073], [-33.8679])\n",
    "plt.plot(vpx, vpy, 'bo', markersize = 5)\n",
    "vpx, vpy = worldMap([-122.4194], [37.7749])\n",
    "plt.plot(vpx, vpy, 'bo', markersize = 5)\n",
    "vpx, vpy = worldMap([-44.6361], [-21.5475]) #([-46.6361], [-23.5475])\n",
    "plt.plot(vpx, vpy, 'bo', markersize = 5)\n",
    "\n",
    "plt.box(False)\n",
    "plt.savefig(\"resolvers-vps-map.pdf\", bbox_inches='tight')\n",
    "plt.show()\n"
   ]
  },
  {
   "cell_type": "markdown",
   "id": "8658d566",
   "metadata": {},
   "source": [
    "## By ASN"
   ]
  },
  {
   "cell_type": "code",
   "execution_count": null,
   "id": "5e549136",
   "metadata": {},
   "outputs": [],
   "source": [
    "top_n = 10\n",
    "\n",
    "target_dist_by_asn = pd.concat([measuremens_ips_all_responsive_regional['as'].value_counts().head(top_n),\n",
    "                                     measuremens_ips_all_responsive_regional['as'].value_counts(normalize=True).head(top_n)], axis=1)\n",
    "target_dist_by_asn = target_dist_by_asn.reset_index() \n",
    "target_dist_by_asn.columns = ['ASN', 'abs', 'rel']\n",
    "target_dist_by_asn['rel'] = target_dist_by_asn['rel'].map(\" ({:.2%})\".format)\n",
    "target_dist_by_asn_table = target_dist_by_asn\n",
    "\n",
    "target_dist_by_asn_table['ASN'] = target_dist_by_asn_table['ASN'].str.split(' ', expand=True)[0]\n",
    "target_dist_by_asn_table['ASN'] = target_dist_by_asn_table['ASN'].str.slice(2)\n",
    "target_dist_by_asn_table"
   ]
  },
  {
   "cell_type": "code",
   "execution_count": null,
   "id": "4417a080",
   "metadata": {},
   "outputs": [],
   "source": [
    "len(measuremens_ips_all_responsive_regional['as'].value_counts())\n",
    "\n",
    "# all ASes observed for DoX verified"
   ]
  },
  {
   "cell_type": "markdown",
   "id": "e32b3944",
   "metadata": {},
   "source": [
    "# ---------------------------------------------------------------------------------"
   ]
  },
  {
   "cell_type": "markdown",
   "id": "63554fc3",
   "metadata": {},
   "source": [
    "# TCP"
   ]
  },
  {
   "cell_type": "markdown",
   "id": "4c9859a2",
   "metadata": {},
   "source": [
    "## TFO support"
   ]
  },
  {
   "cell_type": "code",
   "execution_count": null,
   "id": "72c55973",
   "metadata": {},
   "outputs": [],
   "source": [
    "tcp_tfo = pd.read_sql_query(\"SELECT * FROM fast_open_supports\", connection_misc)"
   ]
  },
  {
   "cell_type": "code",
   "execution_count": null,
   "id": "0392b601",
   "metadata": {},
   "outputs": [],
   "source": [
    "tcp_tfo_support = tcp_tfo[tcp_tfo['support'] != 0]\n",
    "tcp_tfo_support_ips = set(tcp_tfo_support['ip'].unique())\n",
    "len(tcp_tfo_support_ips)\n",
    "\n",
    "#194 resolvers with support for tfo"
   ]
  },
  {
   "cell_type": "code",
   "execution_count": null,
   "id": "2e44c37e",
   "metadata": {},
   "outputs": [],
   "source": [
    "tcp_tfo_support_ips_successful = set(measurements_successful['ip'].unique()).intersection(tcp_tfo_support_ips)\n",
    "\n",
    "len(tcp_tfo_support_ips_successful)\n",
    "#0 resolver with successful measurements supports tfo"
   ]
  },
  {
   "cell_type": "code",
   "execution_count": null,
   "id": "e5cfee8e",
   "metadata": {},
   "outputs": [],
   "source": [
    "measuremens_ips_all_responsive_regional[measuremens_ips_all_responsive_regional['ip'].isin(tcp_tfo_support_ips_successful)]\n"
   ]
  },
  {
   "cell_type": "code",
   "execution_count": null,
   "id": "ed204ae2",
   "metadata": {},
   "outputs": [],
   "source": [
    "quic_certs_last_week[quic_certs_last_week['ip'].isin(tcp_tfo_support_ips_successful)]\n"
   ]
  },
  {
   "cell_type": "code",
   "execution_count": null,
   "id": "883c3a4b",
   "metadata": {},
   "outputs": [],
   "source": [
    "#0 resolver with successful measurements which supports tfo"
   ]
  },
  {
   "cell_type": "markdown",
   "id": "e53b229e",
   "metadata": {},
   "source": [
    "## edns-tcp-keepalive support"
   ]
  },
  {
   "cell_type": "code",
   "execution_count": null,
   "id": "ff8713f8",
   "metadata": {},
   "outputs": [],
   "source": [
    "tcp_edns0_keepalive = pd.read_sql_query(\"SELECT * FROM e_dns0\", connection_misc)"
   ]
  },
  {
   "cell_type": "code",
   "execution_count": null,
   "id": "ee8a41d9",
   "metadata": {},
   "outputs": [],
   "source": [
    "tcp_edns0_keepalive_support = tcp_edns0_keepalive[tcp_edns0_keepalive['support'] != 0]\n",
    "tcp_edns0_keepalive_support_ips = set(tcp_edns0_keepalive_support['ip'].unique())\n",
    "\n",
    "len(tcp_edns0_keepalive_support_ips)\n",
    "#0 resolvers with support for edns0-tcp-keepalive"
   ]
  },
  {
   "cell_type": "code",
   "execution_count": null,
   "id": "f6d601a2",
   "metadata": {},
   "outputs": [],
   "source": [
    "tcp_edns0_keepalive_support_ips_successful = set(measurements_successful['ip'].unique()).intersection(tcp_edns0_keepalive_support_ips)\n",
    "len(tcp_edns0_keepalive_support_ips_successful)\n",
    "\n",
    "#0 resolver with successful measurements support edns0-tcp-keepalive"
   ]
  },
  {
   "cell_type": "code",
   "execution_count": null,
   "id": "53187dd3",
   "metadata": {},
   "outputs": [],
   "source": [
    "len(quic_certs_last_week[quic_certs_last_week['ip'].isin(tcp_edns0_keepalive_support_ips_successful)])\n",
    "\n",
    "#0 resolvers with successful measurements which support edns0-tcp-keepalive are all adguard"
   ]
  },
  {
   "cell_type": "code",
   "execution_count": null,
   "id": "6cdf31e6",
   "metadata": {
    "scrolled": true
   },
   "outputs": [],
   "source": [
    "set(tcp_edns0_keepalive_support['timeout'] != 0)\n",
    "\n",
    "#all resolvers have a timeout value of 0, which signals to close the connection after having received the response."
   ]
  },
  {
   "cell_type": "markdown",
   "id": "c1829886",
   "metadata": {},
   "source": [
    "# ---------------------------------------------------------------------------------"
   ]
  },
  {
   "cell_type": "markdown",
   "id": "8d560448",
   "metadata": {},
   "source": [
    "# DoQ"
   ]
  },
  {
   "cell_type": "code",
   "execution_count": null,
   "id": "7db311a5",
   "metadata": {},
   "outputs": [],
   "source": [
    "doq_successful = measurements_successful[measurements_successful['protocol'] == 'quic']"
   ]
  },
  {
   "cell_type": "markdown",
   "id": "024dcab5",
   "metadata": {},
   "source": [
    "### versions"
   ]
  },
  {
   "cell_type": "code",
   "execution_count": null,
   "id": "73dab904",
   "metadata": {
    "scrolled": true
   },
   "outputs": [],
   "source": [
    "doq_successful_versions = doq_successful[['q_ui_c_version']]\n",
    "doq_successful_versions_grouped = doq_successful_versions.groupby(['q_ui_c_version']).size().reset_index(name = \"total\")\n",
    "doq_successful_versions_grouped['q_ui_c_version'] = doq_successful_versions_grouped['q_ui_c_version'].astype('int64')\n",
    "doq_successful_versions_grouped\n"
   ]
  },
  {
   "cell_type": "code",
   "execution_count": null,
   "id": "acb83b6e",
   "metadata": {},
   "outputs": [],
   "source": [
    "print(doq_successful_versions_grouped['total'][0] / doq_successful_versions_grouped['total'].sum())\n",
    "print(doq_successful_versions_grouped['total'][1] / doq_successful_versions_grouped['total'].sum())\n",
    "print(doq_successful_versions_grouped['total'][2] / doq_successful_versions_grouped['total'].sum())\n",
    "print(doq_successful_versions_grouped['total'][3] / doq_successful_versions_grouped['total'].sum())"
   ]
  },
  {
   "cell_type": "code",
   "execution_count": null,
   "id": "6a26570c",
   "metadata": {},
   "outputs": [],
   "source": [
    "doq_successful_doq = doq_successful[['q_ui_c_negotiated_protocol']]\n",
    "\n",
    "doq_successful_doq_grouped = doq_successful_doq.groupby(['q_ui_c_negotiated_protocol']).size().reset_index(name = \"total\")\n",
    "doq_successful_doq_grouped\n"
   ]
  },
  {
   "cell_type": "code",
   "execution_count": null,
   "id": "8c4d1956",
   "metadata": {
    "scrolled": false
   },
   "outputs": [],
   "source": [
    "print(doq_successful_doq_grouped['total'][0] / doq_successful_doq_grouped['total'].sum())\n",
    "print(doq_successful_doq_grouped['total'][1] / doq_successful_doq_grouped['total'].sum())\n",
    "print(doq_successful_doq_grouped['total'][2] / doq_successful_doq_grouped['total'].sum())"
   ]
  },
  {
   "cell_type": "code",
   "execution_count": null,
   "id": "c92202b2",
   "metadata": {},
   "outputs": [],
   "source": [
    "quic_versions = pd.read_sql_query(\"SELECT * FROM q_versions\", connection_misc)\n",
    "quic_versions['draft_version'].unique()\n",
    "\n",
    "# only doq draft versions 3,2, and 0 are found\n"
   ]
  },
  {
   "cell_type": "markdown",
   "id": "3f908e44",
   "metadata": {},
   "source": [
    "### 0-RTT support"
   ]
  },
  {
   "cell_type": "code",
   "execution_count": null,
   "id": "80cfa07d",
   "metadata": {},
   "outputs": [],
   "source": [
    "quic_0_rtt = pd.read_sql_query(\"SELECT * FROM q0_rtt_supports\", connection_misc)"
   ]
  },
  {
   "cell_type": "code",
   "execution_count": null,
   "id": "e7da47f8",
   "metadata": {},
   "outputs": [],
   "source": [
    "quic_0_rtt[quic_0_rtt['indicated0_rtt'] != 0]\n",
    "\n",
    "# 1 resolver indicates 0-RTT support"
   ]
  },
  {
   "cell_type": "code",
   "execution_count": null,
   "id": "0bdca3c1",
   "metadata": {
    "scrolled": true
   },
   "outputs": [],
   "source": [
    "quic_0_rtt[quic_0_rtt['used0_rtt'] != 0]\n",
    "\n",
    "# 1 resolver successfull 0-RTT"
   ]
  },
  {
   "cell_type": "code",
   "execution_count": null,
   "id": "351e3f34",
   "metadata": {},
   "outputs": [],
   "source": [
    "doq_successful[doq_successful['q_ui_c_used0_rtt'] != 0]\n",
    "\n",
    "# 0-RTT resolvers are not in analysed measurements"
   ]
  },
  {
   "cell_type": "markdown",
   "id": "cb3f8ac0",
   "metadata": {},
   "source": [
    "### Session resumption"
   ]
  },
  {
   "cell_type": "code",
   "execution_count": null,
   "id": "d8e3437f",
   "metadata": {},
   "outputs": [],
   "source": [
    "quic_sr = pd.read_sql_query(\"SELECT * FROM q0_rtt_supports\", connection_misc)"
   ]
  },
  {
   "cell_type": "code",
   "execution_count": null,
   "id": "6ab91682",
   "metadata": {},
   "outputs": [],
   "source": [
    "quic_sr[quic_sr['sends_session_ticket'] != 1]\n",
    "\n",
    "# All resolvers send session ticket"
   ]
  },
  {
   "cell_type": "code",
   "execution_count": null,
   "id": "c4ef9a9c",
   "metadata": {
    "scrolled": true
   },
   "outputs": [],
   "source": [
    "quic_sr.groupby('ticket_lifetime').size().reset_index(name = \"total\")\n"
   ]
  },
  {
   "cell_type": "code",
   "execution_count": null,
   "id": "4d23e6ad",
   "metadata": {},
   "outputs": [],
   "source": [
    "measurements_successful_quic_ip_port = measurements_successful[measurements_successful['protocol'] == 'quic'][['ip', 'port']]\n",
    "\n",
    "measurements_successful_quic_ip = pd.DataFrame()\n",
    "measurements_successful_quic_ip['ip'] = measurements_successful_quic_ip_port['ip'].unique()\n",
    "measurements_successful_quic_ip_merged = measurements_successful_quic_ip.merge(quic_sr, left_on=['ip'], right_on=['ip'])\n",
    "measurements_successful_quic_ip_merged.groupby('ticket_lifetime').size().reset_index(name = \"total\")\n"
   ]
  },
  {
   "cell_type": "markdown",
   "id": "9855110a",
   "metadata": {},
   "source": [
    "# ---------------------------------------------------------------------------------"
   ]
  },
  {
   "cell_type": "markdown",
   "id": "86793d6b",
   "metadata": {},
   "source": [
    "# DoH"
   ]
  },
  {
   "cell_type": "code",
   "execution_count": null,
   "id": "2fce26a2",
   "metadata": {},
   "outputs": [],
   "source": [
    "doh_successful = measurements_successful[measurements_successful['protocol'] == 'https']"
   ]
  },
  {
   "cell_type": "markdown",
   "id": "39cba288",
   "metadata": {},
   "source": [
    "### TLS versions"
   ]
  },
  {
   "cell_type": "code",
   "execution_count": null,
   "id": "3ed25dca",
   "metadata": {
    "scrolled": false
   },
   "outputs": [],
   "source": [
    "doh_successful_tls = doh_successful.groupby('tls_version').size().reset_index(name = \"total\")\n",
    "doh_successful_tls\n"
   ]
  },
  {
   "cell_type": "code",
   "execution_count": null,
   "id": "91021e3d",
   "metadata": {
    "scrolled": true
   },
   "outputs": [],
   "source": [
    "doh_successful_tls['total'][1] / doh_successful_tls['total'].sum()\n"
   ]
  },
  {
   "cell_type": "markdown",
   "id": "5e29e69d",
   "metadata": {},
   "source": [
    "### HTTP versions"
   ]
  },
  {
   "cell_type": "code",
   "execution_count": null,
   "id": "32526689",
   "metadata": {
    "scrolled": true
   },
   "outputs": [],
   "source": [
    "doh_successful_http = doh_successful.groupby('http_version').size().reset_index(name = \"total\")\n",
    "doh_successful_http\n"
   ]
  },
  {
   "cell_type": "code",
   "execution_count": null,
   "id": "04002cb2",
   "metadata": {},
   "outputs": [],
   "source": [
    "doh_successful_http['total'][1] / doh_successful_http['total'].sum()"
   ]
  },
  {
   "cell_type": "markdown",
   "id": "cf271dd1",
   "metadata": {},
   "source": [
    "# ---------------------------------------------------------------------------------"
   ]
  },
  {
   "cell_type": "markdown",
   "id": "8dfedfd0",
   "metadata": {},
   "source": [
    "# DoT"
   ]
  },
  {
   "cell_type": "code",
   "execution_count": null,
   "id": "233f413c",
   "metadata": {},
   "outputs": [],
   "source": [
    "dot_successful = measurements_successful[measurements_successful['protocol'] == 'tls']"
   ]
  },
  {
   "cell_type": "markdown",
   "id": "1cbc65a2",
   "metadata": {},
   "source": [
    "### TLS versions"
   ]
  },
  {
   "cell_type": "code",
   "execution_count": null,
   "id": "7a1f5616",
   "metadata": {
    "scrolled": true
   },
   "outputs": [],
   "source": [
    "dot_successful_tls = dot_successful.groupby('tls_version').size().reset_index(name = \"total\")\n",
    "dot_successful_tls\n"
   ]
  },
  {
   "cell_type": "code",
   "execution_count": null,
   "id": "66517357",
   "metadata": {},
   "outputs": [],
   "source": [
    "dot_successful_tls['total'][1] / dot_successful_tls['total'].sum()\n"
   ]
  },
  {
   "cell_type": "markdown",
   "id": "e0b60fe1",
   "metadata": {},
   "source": [
    "# ---------------------------------------------------------------------------------"
   ]
  },
  {
   "cell_type": "markdown",
   "id": "8968a25e",
   "metadata": {},
   "source": [
    "# DoTCP"
   ]
  },
  {
   "cell_type": "code",
   "execution_count": null,
   "id": "80c7c5bd",
   "metadata": {},
   "outputs": [],
   "source": [
    "dotcp_successful = measurements_successful[measurements_successful['protocol'] == 'tcp']"
   ]
  },
  {
   "cell_type": "markdown",
   "id": "40bba3a4",
   "metadata": {},
   "source": [
    "# ---------------------------------------------------------------------------------"
   ]
  },
  {
   "cell_type": "markdown",
   "id": "83dc6fc2",
   "metadata": {},
   "source": [
    "# DoUDP"
   ]
  },
  {
   "cell_type": "code",
   "execution_count": null,
   "id": "facc220b",
   "metadata": {},
   "outputs": [],
   "source": [
    "doudp_successful = measurements_successful[measurements_successful['protocol'] == 'udp']"
   ]
  },
  {
   "cell_type": "markdown",
   "id": "6fee196d",
   "metadata": {},
   "source": [
    "# ---------------------------------------------------------------------------------"
   ]
  },
  {
   "cell_type": "markdown",
   "id": "e7685792",
   "metadata": {},
   "source": [
    "# Protocol Comparison"
   ]
  },
  {
   "cell_type": "markdown",
   "id": "c91313c9",
   "metadata": {},
   "source": [
    "## Resolve Times"
   ]
  },
  {
   "cell_type": "code",
   "execution_count": null,
   "id": "3fa97b73",
   "metadata": {},
   "outputs": [],
   "source": [
    "doq_query_time = list(doq_successful['query_time'] / 1000000)\n",
    "doh_query_time = list(doh_successful['query_time'] / 1000000)\n",
    "dot_query_time = list(dot_successful['query_time'] / 1000000)\n",
    "dotcp_query_time = list(dotcp_successful['query_time'] / 1000000)\n",
    "doudp_query_time = list(doudp_successful['query_time'] / 1000000)"
   ]
  },
  {
   "cell_type": "code",
   "execution_count": null,
   "id": "762a4026",
   "metadata": {},
   "outputs": [],
   "source": [
    "print('Samples:')\n",
    "print(len(doq_query_time))\n",
    "print(len(doh_query_time))\n",
    "print(len(dot_query_time))\n",
    "print(len(dotcp_query_time))\n",
    "print(len(doudp_query_time))"
   ]
  },
  {
   "cell_type": "code",
   "execution_count": null,
   "id": "a12989b3",
   "metadata": {},
   "outputs": [],
   "source": [
    "print('Means:')\n",
    "print(np.mean(doq_query_time))\n",
    "print(np.mean(doh_query_time))\n",
    "print(np.mean(dot_query_time))\n",
    "print(np.mean(dotcp_query_time))\n",
    "print(np.mean(doudp_query_time))\n",
    "\n",
    "print('Rate DoQ to DoUDP mean: ' + str(np.mean(doq_query_time) / np.mean(doudp_query_time)))\n",
    "print('Rate DoQ to DoH mean: ' + str(np.mean(doq_query_time) / np.mean(doh_query_time)))"
   ]
  },
  {
   "cell_type": "code",
   "execution_count": null,
   "id": "c6466050",
   "metadata": {
    "scrolled": true
   },
   "outputs": [],
   "source": [
    "print('Medians:')\n",
    "print(np.median(doq_query_time))\n",
    "print(np.median(doh_query_time))\n",
    "print(np.median(dot_query_time))\n",
    "print(np.median(dotcp_query_time))\n",
    "print(np.median(doudp_query_time))\n",
    "\n",
    "print('Rate DoQ to DoUDP median: ' + str(np.median(doudp_query_time) / np.median(doq_query_time)))\n",
    "print('Rate DoQ to DoTCP median: ' + str(np.median(dotcp_query_time) / np.median(doq_query_time)))"
   ]
  },
  {
   "cell_type": "markdown",
   "id": "4479b2d6",
   "metadata": {},
   "source": [
    "## Handshake time"
   ]
  },
  {
   "cell_type": "code",
   "execution_count": null,
   "id": "16b5b56c",
   "metadata": {},
   "outputs": [],
   "source": [
    "doq_successful['handshake_time'] = doq_successful['q_ui_c_handshake_duration']\n",
    "doh_successful['handshake_time'] = doh_successful['tcp_handshake_duration'] + doh_successful['tls_handshake_duration']\n",
    "dot_successful['handshake_time'] = dot_successful['tcp_handshake_duration'] + dot_successful['tls_handshake_duration']\n",
    "dotcp_successful['handshake_time'] = dotcp_successful['tcp_handshake_duration']\n",
    "doudp_successful['handshake_time'] = np.NaN\n"
   ]
  },
  {
   "cell_type": "code",
   "execution_count": null,
   "id": "19ef2dc9",
   "metadata": {},
   "outputs": [],
   "source": [
    "doq_handshake_time = list(doq_successful['handshake_time'] / 1000000)\n",
    "doh_handshake_time = list(doh_successful['handshake_time'] / 1000000)\n",
    "dot_handshake_time = list(dot_successful['handshake_time'] / 1000000)\n",
    "dotcp_handshake_time = list(dotcp_successful['handshake_time'] / 1000000)"
   ]
  },
  {
   "cell_type": "code",
   "execution_count": null,
   "id": "66d5c206",
   "metadata": {},
   "outputs": [],
   "source": [
    "print('Samples:')\n",
    "print(len(doq_handshake_time))\n",
    "print(len(doh_handshake_time))\n",
    "print(len(dot_handshake_time))\n",
    "print(len(dotcp_handshake_time))\n"
   ]
  },
  {
   "cell_type": "code",
   "execution_count": null,
   "id": "9ba3c702",
   "metadata": {
    "scrolled": true
   },
   "outputs": [],
   "source": [
    "print('Means:')\n",
    "print(np.mean(doq_handshake_time))\n",
    "print(np.mean(doh_handshake_time))\n",
    "print(np.mean(dot_handshake_time))\n",
    "print(np.mean(dotcp_handshake_time))"
   ]
  },
  {
   "cell_type": "code",
   "execution_count": null,
   "id": "4d1be52c",
   "metadata": {},
   "outputs": [],
   "source": [
    "print('Medians:')\n",
    "print(np.median(doq_handshake_time))\n",
    "print(np.median(doh_handshake_time))\n",
    "print(np.median(dot_handshake_time))\n",
    "print(np.median(dotcp_handshake_time))"
   ]
  },
  {
   "cell_type": "markdown",
   "id": "a00ae48f",
   "metadata": {},
   "source": [
    "# Heatmap Plots"
   ]
  },
  {
   "cell_type": "code",
   "execution_count": null,
   "id": "ebf3d791",
   "metadata": {},
   "outputs": [],
   "source": [
    "#create new df with metrics relevant for heatmap plots\n",
    "measurement_successful_heatmap = doq_successful[['protocol', 'query_time', 'handshake_time', 'vp']]\n",
    "measurement_successful_heatmap = pd.concat([measurement_successful_heatmap, doh_successful[['protocol', 'query_time', 'handshake_time', 'vp']]])\n",
    "measurement_successful_heatmap = pd.concat([measurement_successful_heatmap, dot_successful[['protocol', 'query_time', 'handshake_time', 'vp']]])\n",
    "measurement_successful_heatmap = pd.concat([measurement_successful_heatmap, dotcp_successful[['protocol', 'query_time', 'handshake_time', 'vp']]])\n",
    "measurement_successful_heatmap = pd.concat([measurement_successful_heatmap, doudp_successful[['protocol', 'query_time', 'handshake_time', 'vp']]])\n",
    "measurement_successful_heatmap['hsr'] = measurement_successful_heatmap['handshake_time'] / measurement_successful_heatmap['query_time']\n",
    "measurement_successful_heatmap['total'] = measurement_successful_heatmap['handshake_time'].fillna(0) + measurement_successful_heatmap['query_time']"
   ]
  },
  {
   "cell_type": "code",
   "execution_count": null,
   "id": "f4d951e8",
   "metadata": {
    "scrolled": true
   },
   "outputs": [],
   "source": [
    "#change captions\n",
    "measurement_successful_heatmap.loc[measurement_successful_heatmap.protocol == 'quic', 'protocol'] = 'DoQ'\n",
    "measurement_successful_heatmap.loc[measurement_successful_heatmap.protocol == 'https', 'protocol'] = 'DoH'\n",
    "measurement_successful_heatmap.loc[measurement_successful_heatmap.protocol == 'tls', 'protocol'] = 'DoT'\n",
    "measurement_successful_heatmap.loc[measurement_successful_heatmap.protocol == 'tcp', 'protocol'] = 'DoTCP'\n",
    "measurement_successful_heatmap.loc[measurement_successful_heatmap.protocol == 'udp', 'protocol'] = 'DoUDP'\n",
    "\n",
    "measurement_successful_heatmap.loc[measurement_successful_heatmap.vp == 'AF-SOUTH-1', 'vp'] = 'AF'\n",
    "measurement_successful_heatmap.loc[measurement_successful_heatmap.vp == 'AP-NORTHEAST-3', 'vp'] = 'AS'\n",
    "measurement_successful_heatmap.loc[measurement_successful_heatmap.vp == 'AP-SOUTHEAST-3', 'vp'] = 'OC'\n",
    "measurement_successful_heatmap.loc[measurement_successful_heatmap.vp == 'EU-CENTRAL-1', 'vp'] = 'EU'\n",
    "measurement_successful_heatmap.loc[measurement_successful_heatmap.vp == 'SA-EAST-1', 'vp'] = 'SA'\n",
    "#measurement_successful_heatmap.loc[measurement_successful_heatmap.vp == 'US-EAST-1', 'vp'] = 'NA-E'\n",
    "measurement_successful_heatmap.loc[measurement_successful_heatmap.vp == 'US-WEST-1', 'vp'] = 'NA'\n",
    "\n",
    "measurement_successful_heatmap"
   ]
  },
  {
   "cell_type": "code",
   "execution_count": null,
   "id": "0cbe078e",
   "metadata": {},
   "outputs": [],
   "source": [
    "def sort_heatmap(time_heatmap):\n",
    "    # sort by number of resolvers\n",
    "    # \\ac{EU} with 130 resolvers, followed by \\ac{AS} with 128, \\ac{NA} with 49, and \\ac{AF}, \\ac{OC}, and \\ac{SA} with 2 resolvers each.\n",
    "\n",
    "    time_heatmap_tmp = time_heatmap[time_heatmap.index == 'EU']\n",
    "    time_heatmap = time_heatmap[time_heatmap.index != 'EU']\n",
    "    time_heatmap = time_heatmap.append(time_heatmap_tmp)\n",
    "\n",
    "    time_heatmap_tmp = time_heatmap[time_heatmap.index == 'AS']\n",
    "    time_heatmap = time_heatmap[time_heatmap.index != 'AS']\n",
    "    time_heatmap = time_heatmap.append(time_heatmap_tmp)\n",
    "\n",
    "    time_heatmap_tmp = time_heatmap[time_heatmap.index == 'NA']\n",
    "    time_heatmap = time_heatmap[time_heatmap.index != 'NA']\n",
    "    time_heatmap = time_heatmap.append(time_heatmap_tmp)\n",
    "\n",
    "    time_heatmap_tmp = time_heatmap[time_heatmap.index == 'AF']\n",
    "    time_heatmap = time_heatmap[time_heatmap.index != 'AF']\n",
    "    time_heatmap = time_heatmap.append(time_heatmap_tmp)\n",
    "\n",
    "    time_heatmap_tmp = time_heatmap[time_heatmap.index == 'OC']\n",
    "    time_heatmap = time_heatmap[time_heatmap.index != 'OC']\n",
    "    time_heatmap = time_heatmap.append(time_heatmap_tmp)\n",
    "\n",
    "    time_heatmap_tmp = time_heatmap[time_heatmap.index == 'SA']\n",
    "    time_heatmap = time_heatmap[time_heatmap.index != 'SA']\n",
    "    time_heatmap = time_heatmap.append(time_heatmap_tmp)\n",
    "    \n",
    "    return time_heatmap"
   ]
  },
  {
   "cell_type": "markdown",
   "id": "ee4f8d96",
   "metadata": {},
   "source": [
    "### resolve time"
   ]
  },
  {
   "cell_type": "code",
   "execution_count": null,
   "id": "f51a2255",
   "metadata": {},
   "outputs": [],
   "source": [
    "query_time_total = measurement_successful_heatmap.groupby('protocol', as_index=False)['query_time'].median()\n",
    "query_time_total['vp'] = 'Total'\n",
    "query_time_total = query_time_total[['protocol', 'vp', 'query_time']]\n",
    "\n",
    "query_time_heatmap = measurement_successful_heatmap.groupby(['protocol', 'vp'], as_index=False\n",
    "                               )['query_time'].median().append(query_time_total)\n",
    "query_time_heatmap['query_time'] = query_time_heatmap['query_time'] / 1000000\n",
    "query_time_heatmap = pd.crosstab(query_time_heatmap['vp'], query_time_heatmap['protocol'],\n",
    "                          values=query_time_heatmap['query_time'], aggfunc='median'\n",
    "                        )\n",
    "\n",
    "# move Total to the top\n",
    "query_time_heatmap_total = query_time_heatmap[query_time_heatmap.index == 'Total']\n",
    "query_time_heatmap_tmp = query_time_heatmap[query_time_heatmap.index != 'Total']\n",
    "query_time_heatmap = query_time_heatmap_total.append(query_time_heatmap_tmp)\n",
    "query_time_heatmap = query_time_heatmap[['DoQ', 'DoUDP', 'DoTCP', 'DoT', 'DoH']]\n",
    "query_time_heatmap = query_time_heatmap[['DoUDP', 'DoTCP', 'DoQ', 'DoH', 'DoT']]\n",
    "query_time_heatmap = sort_heatmap(query_time_heatmap)\n",
    "query_time_heatmap"
   ]
  },
  {
   "cell_type": "markdown",
   "id": "b00601bd",
   "metadata": {},
   "source": [
    "### handshake time"
   ]
  },
  {
   "cell_type": "code",
   "execution_count": null,
   "id": "ef77188a",
   "metadata": {},
   "outputs": [],
   "source": [
    "handshake_time_total = measurement_successful_heatmap.groupby('protocol', as_index=False)['handshake_time'].median()\n",
    "handshake_time_total['vp'] = 'Total'\n",
    "handshake_time_total = handshake_time_total[['protocol', 'vp', 'handshake_time']]\n",
    "\n",
    "handshake_time_heatmap = measurement_successful_heatmap.groupby(['protocol', 'vp'], as_index=False\n",
    "                               )['handshake_time'].median().append(handshake_time_total)\n",
    "handshake_time_heatmap = handshake_time_heatmap.fillna(0)\n",
    "handshake_time_heatmap['handshake_time'] = handshake_time_heatmap['handshake_time'] / 1000000\n",
    "handshake_time_heatmap = pd.crosstab(handshake_time_heatmap['vp'], handshake_time_heatmap['protocol'],\n",
    "                          values=handshake_time_heatmap['handshake_time'], aggfunc='median'\n",
    "                        )\n",
    "\n",
    "# move Total to the top\n",
    "handshake_time_heatmap_total = handshake_time_heatmap[handshake_time_heatmap.index == 'Total']\n",
    "handshake_time_heatmap_tmp = handshake_time_heatmap[handshake_time_heatmap.index != 'Total']\n",
    "handshake_time_heatmap = handshake_time_heatmap_total.append(handshake_time_heatmap_tmp)\n",
    "handshake_time_heatmap = handshake_time_heatmap[['DoQ', 'DoUDP', 'DoTCP', 'DoT', 'DoH']]\n",
    "handshake_time_heatmap['DoUDP'] = np.NaN\n",
    "handshake_time_heatmap = handshake_time_heatmap[['DoUDP', 'DoTCP', 'DoQ', 'DoH', 'DoT']]\n",
    "handshake_time_heatmap = sort_heatmap(handshake_time_heatmap)\n",
    "handshake_time_heatmap\n"
   ]
  },
  {
   "cell_type": "markdown",
   "id": "55b2ef8b",
   "metadata": {},
   "source": [
    "### plot"
   ]
  },
  {
   "cell_type": "code",
   "execution_count": null,
   "id": "34473e22",
   "metadata": {},
   "outputs": [],
   "source": [
    "fig, (ax1, ax2) = plt.subplots(ncols=2, figsize=(8, 3), gridspec_kw = {'wspace':0.07, 'hspace':0.1, 'width_ratios': [5, 6]}, sharex=True)\n",
    "\n",
    "ax1 = sns.heatmap(handshake_time_heatmap,\n",
    "            annot=True,\n",
    "            cmap='RdYlGn_r', #'RdYlBu_r',  # \"RdYlGn_r\",\n",
    "            #cbar_kws={'label' : 'Handshake Time [ms]'},\n",
    "            ax=ax1,\n",
    "            fmt='.1f',\n",
    "            vmin=0,\n",
    "            vmax=400,\n",
    "            xticklabels=True,\n",
    "            linewidths=3,\n",
    "            cbar=False\n",
    "           )\n",
    "ax1.set_xlabel('')\n",
    "ax1.set_ylabel('')\n",
    "ax1.tick_params(left=False, bottom=False)\n",
    "ax1.set_facecolor('.95')\n",
    "\n",
    "ax2 = sns.heatmap(query_time_heatmap,\n",
    "            annot=True,\n",
    "            cmap='RdYlGn_r', #'RdYlBu_r',  # \"RdYlGn_r\",\n",
    "            #cbar_kws={'label' : 'Resolve Time [ms]'},\n",
    "            ax=ax2,\n",
    "            fmt='.1f',\n",
    "            vmin=0,\n",
    "            vmax=400,\n",
    "            xticklabels=True,\n",
    "            yticklabels=False,\n",
    "            linewidths=3\n",
    "           )\n",
    "ax2.set_xlabel('')\n",
    "ax2.set_ylabel('')\n",
    "ax2.tick_params(left=False, bottom=False)\n",
    "\n",
    "fig.show()\n",
    "fig.savefig('handshake-resolve-heatmap.pdf', bbox_inches='tight')"
   ]
  },
  {
   "cell_type": "code",
   "execution_count": null,
   "id": "d5343d27",
   "metadata": {},
   "outputs": [],
   "source": []
  }
 ],
 "metadata": {
  "kernelspec": {
   "display_name": "Python 3.8.12",
   "language": "python",
   "name": "python3"
  },
  "language_info": {
   "codemirror_mode": {
    "name": "ipython",
    "version": 3
   },
   "file_extension": ".py",
   "mimetype": "text/x-python",
   "name": "python",
   "nbconvert_exporter": "python",
   "pygments_lexer": "ipython3",
   "version": "3.8.12"
  }
 },
 "nbformat": 4,
 "nbformat_minor": 5
}
